{
 "cells": [
  {
   "cell_type": "markdown",
   "metadata": {},
   "source": [
    "\n",
    "\n",
    "**Hola! James**\n",
    "\n",
    "Mi nombre es Enrique Romero, tendre el gusto de revisar Tu proyecto, te deseo lo mejor.\n",
    "\n",
    "<div class=\"alert alert-danger\">\n",
    "<b>❌ Comentario del revisor:</b> Esto destaca los comentarios más importantes. Sin su desarrollo, el proyecto no será aceptado. </div>\n",
    "\n",
    "<div class=\"alert alert-warning\">\n",
    "<b>⚠️ Comentario del revisor:</b> Así que los pequeños comentarios están resaltados. Se aceptan uno o dos comentarios de este tipo en el borrador, pero si hay más, deberá hacer las correcciones. Es como una tarea de prueba al solicitar un trabajo: muchos pequeños errores pueden hacer que un candidato sea rechazado.\n",
    "</div>\n",
    "\n",
    "<div class=\"alert alert-success\">\n",
    "<b>✔️ Comentario del revisor:</b> Así que destaco todos los demás comentarios.</div>\n",
    "\n",
    "<div class=\"alert alert-info\"> <b>Comentario del estudiante:</b> Por ejemplo, asi.</div>\n",
    "\n",
    "Todo esto ayudará a volver a revisar tu proyecto más rápido."
   ]
  },
  {
   "cell_type": "markdown",
   "metadata": {
    "tags": [
     "e5c1f0c2-db9f-43a0-99b9-4875c52427e8"
    ]
   },
   "source": [
    "## Introducción\n",
    "\n",
    "En este proyecto, trabajaré para la tienda online Ice, especializada en la venta de videojuegos a nivel mundial. La tarea principal es analizar datos disponibles desde 2016 con el objetivo de identificar patrones que determinen el éxito de un videojuego. Este análisis permitirá anticipar proyectos prometedores y planificar estrategias publicitarias efectivas.\n",
    "\n",
    "Las fuentes de información incluyen reseñas de usuarios y expertos, géneros de juegos, plataformas (como Xbox o PlayStation) y datos históricos de ventas. Aunque nos encontramos en diciembre de 2016, la idea es adquirir experiencia de trabajo con datos y aplicar este conocimiento tanto para prever las ventas de 2017 basándonos en datos de 2016, como para desarrollar habilidades que puedan ser útiles en futuras proyecciones.\n",
    "\n",
    "Este análisis será fundamental para tomar decisiones informadas sobre qué juegos respaldar y cómo estructurar campañas publicitarias de manera efectiva. A través de la exploración y comprensión de los datos disponibles, espero proporcionar a Ice las herramientas necesarias para anticiparse a las tendencias del mercado y maximizar el éxito de sus productos en la industria de los videojuegos.\n"
   ]
  },
  {
   "cell_type": "markdown",
   "metadata": {},
   "source": [
    "### Inicialización"
   ]
  },
  {
   "cell_type": "code",
   "execution_count": 1,
   "metadata": {},
   "outputs": [],
   "source": [
    "# Cargar todas las librerías.\n",
    "import pandas as pd\n",
    "import numpy as np\n",
    "import matplotlib.pyplot as plt\n",
    "import seaborn as sns\n",
    "from scipy.stats import ttest_ind"
   ]
  },
  {
   "cell_type": "markdown",
   "metadata": {},
   "source": [
    "### cargar datos"
   ]
  },
  {
   "cell_type": "code",
   "execution_count": 2,
   "metadata": {},
   "outputs": [],
   "source": [
    "df_games = pd.read_csv('/datasets/games.csv')"
   ]
  },
  {
   "cell_type": "markdown",
   "metadata": {},
   "source": [
    "## Preparar los datos"
   ]
  },
  {
   "cell_type": "code",
   "execution_count": 3,
   "metadata": {},
   "outputs": [
    {
     "name": "stdout",
     "output_type": "stream",
     "text": [
      "<class 'pandas.core.frame.DataFrame'>\n",
      "RangeIndex: 16715 entries, 0 to 16714\n",
      "Data columns (total 11 columns):\n",
      " #   Column           Non-Null Count  Dtype  \n",
      "---  ------           --------------  -----  \n",
      " 0   Name             16713 non-null  object \n",
      " 1   Platform         16715 non-null  object \n",
      " 2   Year_of_Release  16446 non-null  float64\n",
      " 3   Genre            16713 non-null  object \n",
      " 4   NA_sales         16715 non-null  float64\n",
      " 5   EU_sales         16715 non-null  float64\n",
      " 6   JP_sales         16715 non-null  float64\n",
      " 7   Other_sales      16715 non-null  float64\n",
      " 8   Critic_Score     8137 non-null   float64\n",
      " 9   User_Score       10014 non-null  object \n",
      " 10  Rating           9949 non-null   object \n",
      "dtypes: float64(6), object(5)\n",
      "memory usage: 1.4+ MB\n"
     ]
    }
   ],
   "source": [
    "# Imprime la información general/resumida sobre el DataFrame.\n",
    "df_games.info()\n"
   ]
  },
  {
   "cell_type": "code",
   "execution_count": 4,
   "metadata": {},
   "outputs": [
    {
     "data": {
      "text/html": [
       "<div>\n",
       "<style scoped>\n",
       "    .dataframe tbody tr th:only-of-type {\n",
       "        vertical-align: middle;\n",
       "    }\n",
       "\n",
       "    .dataframe tbody tr th {\n",
       "        vertical-align: top;\n",
       "    }\n",
       "\n",
       "    .dataframe thead th {\n",
       "        text-align: right;\n",
       "    }\n",
       "</style>\n",
       "<table border=\"1\" class=\"dataframe\">\n",
       "  <thead>\n",
       "    <tr style=\"text-align: right;\">\n",
       "      <th></th>\n",
       "      <th>Name</th>\n",
       "      <th>Platform</th>\n",
       "      <th>Year_of_Release</th>\n",
       "      <th>Genre</th>\n",
       "      <th>NA_sales</th>\n",
       "      <th>EU_sales</th>\n",
       "      <th>JP_sales</th>\n",
       "      <th>Other_sales</th>\n",
       "      <th>Critic_Score</th>\n",
       "      <th>User_Score</th>\n",
       "      <th>Rating</th>\n",
       "    </tr>\n",
       "  </thead>\n",
       "  <tbody>\n",
       "    <tr>\n",
       "      <th>0</th>\n",
       "      <td>Wii Sports</td>\n",
       "      <td>Wii</td>\n",
       "      <td>2006.0</td>\n",
       "      <td>Sports</td>\n",
       "      <td>41.36</td>\n",
       "      <td>28.96</td>\n",
       "      <td>3.77</td>\n",
       "      <td>8.45</td>\n",
       "      <td>76.0</td>\n",
       "      <td>8</td>\n",
       "      <td>E</td>\n",
       "    </tr>\n",
       "    <tr>\n",
       "      <th>1</th>\n",
       "      <td>Super Mario Bros.</td>\n",
       "      <td>NES</td>\n",
       "      <td>1985.0</td>\n",
       "      <td>Platform</td>\n",
       "      <td>29.08</td>\n",
       "      <td>3.58</td>\n",
       "      <td>6.81</td>\n",
       "      <td>0.77</td>\n",
       "      <td>NaN</td>\n",
       "      <td>NaN</td>\n",
       "      <td>NaN</td>\n",
       "    </tr>\n",
       "    <tr>\n",
       "      <th>2</th>\n",
       "      <td>Mario Kart Wii</td>\n",
       "      <td>Wii</td>\n",
       "      <td>2008.0</td>\n",
       "      <td>Racing</td>\n",
       "      <td>15.68</td>\n",
       "      <td>12.76</td>\n",
       "      <td>3.79</td>\n",
       "      <td>3.29</td>\n",
       "      <td>82.0</td>\n",
       "      <td>8.3</td>\n",
       "      <td>E</td>\n",
       "    </tr>\n",
       "    <tr>\n",
       "      <th>3</th>\n",
       "      <td>Wii Sports Resort</td>\n",
       "      <td>Wii</td>\n",
       "      <td>2009.0</td>\n",
       "      <td>Sports</td>\n",
       "      <td>15.61</td>\n",
       "      <td>10.93</td>\n",
       "      <td>3.28</td>\n",
       "      <td>2.95</td>\n",
       "      <td>80.0</td>\n",
       "      <td>8</td>\n",
       "      <td>E</td>\n",
       "    </tr>\n",
       "    <tr>\n",
       "      <th>4</th>\n",
       "      <td>Pokemon Red/Pokemon Blue</td>\n",
       "      <td>GB</td>\n",
       "      <td>1996.0</td>\n",
       "      <td>Role-Playing</td>\n",
       "      <td>11.27</td>\n",
       "      <td>8.89</td>\n",
       "      <td>10.22</td>\n",
       "      <td>1.00</td>\n",
       "      <td>NaN</td>\n",
       "      <td>NaN</td>\n",
       "      <td>NaN</td>\n",
       "    </tr>\n",
       "    <tr>\n",
       "      <th>5</th>\n",
       "      <td>Tetris</td>\n",
       "      <td>GB</td>\n",
       "      <td>1989.0</td>\n",
       "      <td>Puzzle</td>\n",
       "      <td>23.20</td>\n",
       "      <td>2.26</td>\n",
       "      <td>4.22</td>\n",
       "      <td>0.58</td>\n",
       "      <td>NaN</td>\n",
       "      <td>NaN</td>\n",
       "      <td>NaN</td>\n",
       "    </tr>\n",
       "    <tr>\n",
       "      <th>6</th>\n",
       "      <td>New Super Mario Bros.</td>\n",
       "      <td>DS</td>\n",
       "      <td>2006.0</td>\n",
       "      <td>Platform</td>\n",
       "      <td>11.28</td>\n",
       "      <td>9.14</td>\n",
       "      <td>6.50</td>\n",
       "      <td>2.88</td>\n",
       "      <td>89.0</td>\n",
       "      <td>8.5</td>\n",
       "      <td>E</td>\n",
       "    </tr>\n",
       "    <tr>\n",
       "      <th>7</th>\n",
       "      <td>Wii Play</td>\n",
       "      <td>Wii</td>\n",
       "      <td>2006.0</td>\n",
       "      <td>Misc</td>\n",
       "      <td>13.96</td>\n",
       "      <td>9.18</td>\n",
       "      <td>2.93</td>\n",
       "      <td>2.84</td>\n",
       "      <td>58.0</td>\n",
       "      <td>6.6</td>\n",
       "      <td>E</td>\n",
       "    </tr>\n",
       "    <tr>\n",
       "      <th>8</th>\n",
       "      <td>New Super Mario Bros. Wii</td>\n",
       "      <td>Wii</td>\n",
       "      <td>2009.0</td>\n",
       "      <td>Platform</td>\n",
       "      <td>14.44</td>\n",
       "      <td>6.94</td>\n",
       "      <td>4.70</td>\n",
       "      <td>2.24</td>\n",
       "      <td>87.0</td>\n",
       "      <td>8.4</td>\n",
       "      <td>E</td>\n",
       "    </tr>\n",
       "    <tr>\n",
       "      <th>9</th>\n",
       "      <td>Duck Hunt</td>\n",
       "      <td>NES</td>\n",
       "      <td>1984.0</td>\n",
       "      <td>Shooter</td>\n",
       "      <td>26.93</td>\n",
       "      <td>0.63</td>\n",
       "      <td>0.28</td>\n",
       "      <td>0.47</td>\n",
       "      <td>NaN</td>\n",
       "      <td>NaN</td>\n",
       "      <td>NaN</td>\n",
       "    </tr>\n",
       "    <tr>\n",
       "      <th>10</th>\n",
       "      <td>Nintendogs</td>\n",
       "      <td>DS</td>\n",
       "      <td>2005.0</td>\n",
       "      <td>Simulation</td>\n",
       "      <td>9.05</td>\n",
       "      <td>10.95</td>\n",
       "      <td>1.93</td>\n",
       "      <td>2.74</td>\n",
       "      <td>NaN</td>\n",
       "      <td>NaN</td>\n",
       "      <td>NaN</td>\n",
       "    </tr>\n",
       "    <tr>\n",
       "      <th>11</th>\n",
       "      <td>Mario Kart DS</td>\n",
       "      <td>DS</td>\n",
       "      <td>2005.0</td>\n",
       "      <td>Racing</td>\n",
       "      <td>9.71</td>\n",
       "      <td>7.47</td>\n",
       "      <td>4.13</td>\n",
       "      <td>1.90</td>\n",
       "      <td>91.0</td>\n",
       "      <td>8.6</td>\n",
       "      <td>E</td>\n",
       "    </tr>\n",
       "    <tr>\n",
       "      <th>12</th>\n",
       "      <td>Pokemon Gold/Pokemon Silver</td>\n",
       "      <td>GB</td>\n",
       "      <td>1999.0</td>\n",
       "      <td>Role-Playing</td>\n",
       "      <td>9.00</td>\n",
       "      <td>6.18</td>\n",
       "      <td>7.20</td>\n",
       "      <td>0.71</td>\n",
       "      <td>NaN</td>\n",
       "      <td>NaN</td>\n",
       "      <td>NaN</td>\n",
       "    </tr>\n",
       "    <tr>\n",
       "      <th>13</th>\n",
       "      <td>Wii Fit</td>\n",
       "      <td>Wii</td>\n",
       "      <td>2007.0</td>\n",
       "      <td>Sports</td>\n",
       "      <td>8.92</td>\n",
       "      <td>8.03</td>\n",
       "      <td>3.60</td>\n",
       "      <td>2.15</td>\n",
       "      <td>80.0</td>\n",
       "      <td>7.7</td>\n",
       "      <td>E</td>\n",
       "    </tr>\n",
       "    <tr>\n",
       "      <th>14</th>\n",
       "      <td>Kinect Adventures!</td>\n",
       "      <td>X360</td>\n",
       "      <td>2010.0</td>\n",
       "      <td>Misc</td>\n",
       "      <td>15.00</td>\n",
       "      <td>4.89</td>\n",
       "      <td>0.24</td>\n",
       "      <td>1.69</td>\n",
       "      <td>61.0</td>\n",
       "      <td>6.3</td>\n",
       "      <td>E</td>\n",
       "    </tr>\n",
       "    <tr>\n",
       "      <th>15</th>\n",
       "      <td>Wii Fit Plus</td>\n",
       "      <td>Wii</td>\n",
       "      <td>2009.0</td>\n",
       "      <td>Sports</td>\n",
       "      <td>9.01</td>\n",
       "      <td>8.49</td>\n",
       "      <td>2.53</td>\n",
       "      <td>1.77</td>\n",
       "      <td>80.0</td>\n",
       "      <td>7.4</td>\n",
       "      <td>E</td>\n",
       "    </tr>\n",
       "    <tr>\n",
       "      <th>16</th>\n",
       "      <td>Grand Theft Auto V</td>\n",
       "      <td>PS3</td>\n",
       "      <td>2013.0</td>\n",
       "      <td>Action</td>\n",
       "      <td>7.02</td>\n",
       "      <td>9.09</td>\n",
       "      <td>0.98</td>\n",
       "      <td>3.96</td>\n",
       "      <td>97.0</td>\n",
       "      <td>8.2</td>\n",
       "      <td>M</td>\n",
       "    </tr>\n",
       "    <tr>\n",
       "      <th>17</th>\n",
       "      <td>Grand Theft Auto: San Andreas</td>\n",
       "      <td>PS2</td>\n",
       "      <td>2004.0</td>\n",
       "      <td>Action</td>\n",
       "      <td>9.43</td>\n",
       "      <td>0.40</td>\n",
       "      <td>0.41</td>\n",
       "      <td>10.57</td>\n",
       "      <td>95.0</td>\n",
       "      <td>9</td>\n",
       "      <td>M</td>\n",
       "    </tr>\n",
       "    <tr>\n",
       "      <th>18</th>\n",
       "      <td>Super Mario World</td>\n",
       "      <td>SNES</td>\n",
       "      <td>1990.0</td>\n",
       "      <td>Platform</td>\n",
       "      <td>12.78</td>\n",
       "      <td>3.75</td>\n",
       "      <td>3.54</td>\n",
       "      <td>0.55</td>\n",
       "      <td>NaN</td>\n",
       "      <td>NaN</td>\n",
       "      <td>NaN</td>\n",
       "    </tr>\n",
       "    <tr>\n",
       "      <th>19</th>\n",
       "      <td>Brain Age: Train Your Brain in Minutes a Day</td>\n",
       "      <td>DS</td>\n",
       "      <td>2005.0</td>\n",
       "      <td>Misc</td>\n",
       "      <td>4.74</td>\n",
       "      <td>9.20</td>\n",
       "      <td>4.16</td>\n",
       "      <td>2.04</td>\n",
       "      <td>77.0</td>\n",
       "      <td>7.9</td>\n",
       "      <td>E</td>\n",
       "    </tr>\n",
       "  </tbody>\n",
       "</table>\n",
       "</div>"
      ],
      "text/plain": [
       "                                            Name Platform  Year_of_Release  \\\n",
       "0                                     Wii Sports      Wii           2006.0   \n",
       "1                              Super Mario Bros.      NES           1985.0   \n",
       "2                                 Mario Kart Wii      Wii           2008.0   \n",
       "3                              Wii Sports Resort      Wii           2009.0   \n",
       "4                       Pokemon Red/Pokemon Blue       GB           1996.0   \n",
       "5                                         Tetris       GB           1989.0   \n",
       "6                          New Super Mario Bros.       DS           2006.0   \n",
       "7                                       Wii Play      Wii           2006.0   \n",
       "8                      New Super Mario Bros. Wii      Wii           2009.0   \n",
       "9                                      Duck Hunt      NES           1984.0   \n",
       "10                                    Nintendogs       DS           2005.0   \n",
       "11                                 Mario Kart DS       DS           2005.0   \n",
       "12                   Pokemon Gold/Pokemon Silver       GB           1999.0   \n",
       "13                                       Wii Fit      Wii           2007.0   \n",
       "14                            Kinect Adventures!     X360           2010.0   \n",
       "15                                  Wii Fit Plus      Wii           2009.0   \n",
       "16                            Grand Theft Auto V      PS3           2013.0   \n",
       "17                 Grand Theft Auto: San Andreas      PS2           2004.0   \n",
       "18                             Super Mario World     SNES           1990.0   \n",
       "19  Brain Age: Train Your Brain in Minutes a Day       DS           2005.0   \n",
       "\n",
       "           Genre  NA_sales  EU_sales  JP_sales  Other_sales  Critic_Score  \\\n",
       "0         Sports     41.36     28.96      3.77         8.45          76.0   \n",
       "1       Platform     29.08      3.58      6.81         0.77           NaN   \n",
       "2         Racing     15.68     12.76      3.79         3.29          82.0   \n",
       "3         Sports     15.61     10.93      3.28         2.95          80.0   \n",
       "4   Role-Playing     11.27      8.89     10.22         1.00           NaN   \n",
       "5         Puzzle     23.20      2.26      4.22         0.58           NaN   \n",
       "6       Platform     11.28      9.14      6.50         2.88          89.0   \n",
       "7           Misc     13.96      9.18      2.93         2.84          58.0   \n",
       "8       Platform     14.44      6.94      4.70         2.24          87.0   \n",
       "9        Shooter     26.93      0.63      0.28         0.47           NaN   \n",
       "10    Simulation      9.05     10.95      1.93         2.74           NaN   \n",
       "11        Racing      9.71      7.47      4.13         1.90          91.0   \n",
       "12  Role-Playing      9.00      6.18      7.20         0.71           NaN   \n",
       "13        Sports      8.92      8.03      3.60         2.15          80.0   \n",
       "14          Misc     15.00      4.89      0.24         1.69          61.0   \n",
       "15        Sports      9.01      8.49      2.53         1.77          80.0   \n",
       "16        Action      7.02      9.09      0.98         3.96          97.0   \n",
       "17        Action      9.43      0.40      0.41        10.57          95.0   \n",
       "18      Platform     12.78      3.75      3.54         0.55           NaN   \n",
       "19          Misc      4.74      9.20      4.16         2.04          77.0   \n",
       "\n",
       "   User_Score Rating  \n",
       "0           8      E  \n",
       "1         NaN    NaN  \n",
       "2         8.3      E  \n",
       "3           8      E  \n",
       "4         NaN    NaN  \n",
       "5         NaN    NaN  \n",
       "6         8.5      E  \n",
       "7         6.6      E  \n",
       "8         8.4      E  \n",
       "9         NaN    NaN  \n",
       "10        NaN    NaN  \n",
       "11        8.6      E  \n",
       "12        NaN    NaN  \n",
       "13        7.7      E  \n",
       "14        6.3      E  \n",
       "15        7.4      E  \n",
       "16        8.2      M  \n",
       "17          9      M  \n",
       "18        NaN    NaN  \n",
       "19        7.9      E  "
      ]
     },
     "metadata": {},
     "output_type": "display_data"
    }
   ],
   "source": [
    "# Imprime una muestra de los datos\n",
    "display(df_games.head(20))"
   ]
  },
  {
   "cell_type": "markdown",
   "metadata": {},
   "source": [
    "<div class=\"alert alert-success\">\n",
    "<b>✔️ Comentario del revisor:</b>    \n",
    "Excelente inicio, muy bien con esta exploración inicial\n",
    "</div>\t"
   ]
  },
  {
   "cell_type": "markdown",
   "metadata": {},
   "source": [
    "### Reemplazar nombres en columnas.\n",
    " \n",
    "Normalizar la capitalización de las columnas en un DataFrame durante el análisis de datos es una buena práctica que mejora la consistencia, la legibilidad del código y reduce la posibilidad de errores. "
   ]
  },
  {
   "cell_type": "code",
   "execution_count": 5,
   "metadata": {},
   "outputs": [],
   "source": [
    "# Reemplazar los nombres de las columnas\n",
    "df_games.columns = df_games.columns.str.lower()"
   ]
  },
  {
   "cell_type": "markdown",
   "metadata": {},
   "source": [
    "### Convertir los datos en los tipos necesarios.\n",
    "\n",
    "Convertir los datos del dataframe en los tipos de datos necesarios es una práctica fundamental para garantizar la eficiencia, precisión y consistencia en el análisis de datos, así como para evitar errores y mejorar la compatibilidad con otras herramientas y bibliotecas."
   ]
  },
  {
   "cell_type": "code",
   "execution_count": 6,
   "metadata": {},
   "outputs": [],
   "source": [
    "# Convertir los datos en los tipos necesarios\n",
    "df_games['year_of_release'] = df_games['year_of_release'].astype('Int64')  # Convierte a tipo de datos entero con soporte para NaN"
   ]
  },
  {
   "cell_type": "markdown",
   "metadata": {},
   "source": [
    "- La columna 'year_of_release' se convierte a tipo entero para representar años sin decimales(se utiliza 'Int64' para permitir valores NaN.)\n",
    "- Las columnas 'user_score' y 'critic_score' se mantienen como float ya que pueden contener decimales y NaN."
   ]
  },
  {
   "cell_type": "markdown",
   "metadata": {},
   "source": [
    "### Tratar valores ausentes."
   ]
  },
  {
   "cell_type": "markdown",
   "metadata": {},
   "source": [
    "- Para las columnas 'user_score', 'critic_score' y 'rating', los valores NaN pueden indicar la falta de información, por lo que se pueden dejar como están o rellenarse dependiendo de las necesidades específicas del análisis.\n",
    "- Para las ventas (NA_sales, EU_sales, JP_sales, Other_sales), TBD (to be determined) podría ser un marcador temporal. Podemos tratar TBD como NaN y luego decidir cómo manejar esos valores dependiendo del contexto."
   ]
  },
  {
   "cell_type": "code",
   "execution_count": 7,
   "metadata": {},
   "outputs": [],
   "source": [
    "# Rellenar NaN en 'user_score', 'critic_score' y 'rating' con valores predeterminados o técnicas de imputación si es necesario.\n",
    "df_games['user_score'].fillna(-1, inplace=True)  # Rellenar con un valor predeterminado, -1 en este caso\n",
    "df_games['user_score'] = pd.to_numeric(df_games['user_score'], errors='coerce')\n",
    "df_games['critic_score'].fillna(-1, inplace=True)  # Rellenar con un valor predeterminado, -1 en este caso\n",
    "df_games['rating'].fillna('Not Rated', inplace=True)  # Rellenar con un valor predeterminado, 'Not Rated' en este caso\n",
    "\n",
    "\n"
   ]
  },
  {
   "cell_type": "markdown",
   "metadata": {},
   "source": [
    "### Calcular ventas totales."
   ]
  },
  {
   "cell_type": "code",
   "execution_count": 8,
   "metadata": {},
   "outputs": [
    {
     "data": {
      "text/html": [
       "<div>\n",
       "<style scoped>\n",
       "    .dataframe tbody tr th:only-of-type {\n",
       "        vertical-align: middle;\n",
       "    }\n",
       "\n",
       "    .dataframe tbody tr th {\n",
       "        vertical-align: top;\n",
       "    }\n",
       "\n",
       "    .dataframe thead th {\n",
       "        text-align: right;\n",
       "    }\n",
       "</style>\n",
       "<table border=\"1\" class=\"dataframe\">\n",
       "  <thead>\n",
       "    <tr style=\"text-align: right;\">\n",
       "      <th></th>\n",
       "      <th>name</th>\n",
       "      <th>platform</th>\n",
       "      <th>year_of_release</th>\n",
       "      <th>genre</th>\n",
       "      <th>na_sales</th>\n",
       "      <th>eu_sales</th>\n",
       "      <th>jp_sales</th>\n",
       "      <th>other_sales</th>\n",
       "      <th>critic_score</th>\n",
       "      <th>user_score</th>\n",
       "      <th>rating</th>\n",
       "      <th>total_sales</th>\n",
       "    </tr>\n",
       "  </thead>\n",
       "  <tbody>\n",
       "    <tr>\n",
       "      <th>0</th>\n",
       "      <td>Wii Sports</td>\n",
       "      <td>Wii</td>\n",
       "      <td>2006</td>\n",
       "      <td>Sports</td>\n",
       "      <td>41.36</td>\n",
       "      <td>28.96</td>\n",
       "      <td>3.77</td>\n",
       "      <td>8.45</td>\n",
       "      <td>76.0</td>\n",
       "      <td>8.0</td>\n",
       "      <td>E</td>\n",
       "      <td>82.54</td>\n",
       "    </tr>\n",
       "    <tr>\n",
       "      <th>1</th>\n",
       "      <td>Super Mario Bros.</td>\n",
       "      <td>NES</td>\n",
       "      <td>1985</td>\n",
       "      <td>Platform</td>\n",
       "      <td>29.08</td>\n",
       "      <td>3.58</td>\n",
       "      <td>6.81</td>\n",
       "      <td>0.77</td>\n",
       "      <td>-1.0</td>\n",
       "      <td>-1.0</td>\n",
       "      <td>Not Rated</td>\n",
       "      <td>40.24</td>\n",
       "    </tr>\n",
       "    <tr>\n",
       "      <th>2</th>\n",
       "      <td>Mario Kart Wii</td>\n",
       "      <td>Wii</td>\n",
       "      <td>2008</td>\n",
       "      <td>Racing</td>\n",
       "      <td>15.68</td>\n",
       "      <td>12.76</td>\n",
       "      <td>3.79</td>\n",
       "      <td>3.29</td>\n",
       "      <td>82.0</td>\n",
       "      <td>8.3</td>\n",
       "      <td>E</td>\n",
       "      <td>35.52</td>\n",
       "    </tr>\n",
       "    <tr>\n",
       "      <th>3</th>\n",
       "      <td>Wii Sports Resort</td>\n",
       "      <td>Wii</td>\n",
       "      <td>2009</td>\n",
       "      <td>Sports</td>\n",
       "      <td>15.61</td>\n",
       "      <td>10.93</td>\n",
       "      <td>3.28</td>\n",
       "      <td>2.95</td>\n",
       "      <td>80.0</td>\n",
       "      <td>8.0</td>\n",
       "      <td>E</td>\n",
       "      <td>32.77</td>\n",
       "    </tr>\n",
       "    <tr>\n",
       "      <th>4</th>\n",
       "      <td>Pokemon Red/Pokemon Blue</td>\n",
       "      <td>GB</td>\n",
       "      <td>1996</td>\n",
       "      <td>Role-Playing</td>\n",
       "      <td>11.27</td>\n",
       "      <td>8.89</td>\n",
       "      <td>10.22</td>\n",
       "      <td>1.00</td>\n",
       "      <td>-1.0</td>\n",
       "      <td>-1.0</td>\n",
       "      <td>Not Rated</td>\n",
       "      <td>31.38</td>\n",
       "    </tr>\n",
       "  </tbody>\n",
       "</table>\n",
       "</div>"
      ],
      "text/plain": [
       "                       name platform  year_of_release         genre  na_sales  \\\n",
       "0                Wii Sports      Wii             2006        Sports     41.36   \n",
       "1         Super Mario Bros.      NES             1985      Platform     29.08   \n",
       "2            Mario Kart Wii      Wii             2008        Racing     15.68   \n",
       "3         Wii Sports Resort      Wii             2009        Sports     15.61   \n",
       "4  Pokemon Red/Pokemon Blue       GB             1996  Role-Playing     11.27   \n",
       "\n",
       "   eu_sales  jp_sales  other_sales  critic_score  user_score     rating  \\\n",
       "0     28.96      3.77         8.45          76.0         8.0          E   \n",
       "1      3.58      6.81         0.77          -1.0        -1.0  Not Rated   \n",
       "2     12.76      3.79         3.29          82.0         8.3          E   \n",
       "3     10.93      3.28         2.95          80.0         8.0          E   \n",
       "4      8.89     10.22         1.00          -1.0        -1.0  Not Rated   \n",
       "\n",
       "   total_sales  \n",
       "0        82.54  \n",
       "1        40.24  \n",
       "2        35.52  \n",
       "3        32.77  \n",
       "4        31.38  "
      ]
     },
     "metadata": {},
     "output_type": "display_data"
    }
   ],
   "source": [
    "# Calcular las ventas totales y colocar en una columna separada\n",
    "df_games['total_sales'] = df_games[['na_sales', 'eu_sales', 'jp_sales', 'other_sales']].sum(axis=1)\n",
    "display(df_games.head())"
   ]
  },
  {
   "cell_type": "markdown",
   "metadata": {},
   "source": [
    "## Analizar los datos."
   ]
  },
  {
   "cell_type": "markdown",
   "metadata": {},
   "source": [
    "### Lanzamiento de juegos en diferentes años."
   ]
  },
  {
   "cell_type": "code",
   "execution_count": 9,
   "metadata": {},
   "outputs": [],
   "source": [
    "# Cuántos juegos fueron lanzados en diferentes años\n",
    "games_per_year = df_games.groupby('year_of_release')['name'].count()"
   ]
  },
  {
   "cell_type": "code",
   "execution_count": 10,
   "metadata": {},
   "outputs": [
    {
     "data": {
      "image/png": "[encoded data removed]",
      "text/plain": [
       "<Figure size 720x432 with 1 Axes>"
      ]
     },
     "metadata": {
      "needs_background": "light"
     },
     "output_type": "display_data"
    }
   ],
   "source": [
    "# Visualización\n",
    "\n",
    "plt.figure(figsize=(10, 6))\n",
    "games_per_year.plot(kind='bar', color='skyblue')\n",
    "plt.title('Número de Juegos Lanzados por Año')\n",
    "plt.xlabel('Año de Lanzamiento')\n",
    "plt.ylabel('Número de Juegos')\n",
    "plt.show()"
   ]
  },
  {
   "cell_type": "markdown",
   "metadata": {},
   "source": [
    "Se observan años con incrementos y disminuciones bruscas en el número de lanzamientos, esos períodos podrían considerarse significativos en la industria de los videojuegos durante esos años."
   ]
  },
  {
   "cell_type": "markdown",
   "metadata": {},
   "source": [
    "<div class=\"alert alert-success\">\n",
    "<b>✔️ Comentario del revisor:</b>    \n",
    "Excelente estos comentarios iniciales brindan un buen panorama de las clases en estudio\n",
    "</div>\t"
   ]
  },
  {
   "cell_type": "markdown",
   "metadata": {},
   "source": [
    "### Variación de una plataforma a otra."
   ]
  },
  {
   "cell_type": "code",
   "execution_count": 11,
   "metadata": {},
   "outputs": [],
   "source": [
    "# Variación de ventas de una plataforma a otra\n",
    "platform_sales = df_games.groupby('platform')['total_sales'].sum().sort_values(ascending=False)"
   ]
  },
  {
   "cell_type": "markdown",
   "metadata": {},
   "source": [
    "#### Plataformas con mayores ventas totales y distribución por año."
   ]
  },
  {
   "cell_type": "code",
   "execution_count": 12,
   "metadata": {},
   "outputs": [],
   "source": [
    "# Seleccionar las plataformas con las mayores ventas totales\n",
    "top_platforms = platform_sales.head(5).index"
   ]
  },
  {
   "cell_type": "code",
   "execution_count": 13,
   "metadata": {},
   "outputs": [],
   "source": [
    "# Construir una distribución basada en los datos de cada año para las plataformas seleccionadas\n",
    "platform_sales_by_year = df_games[df_games['platform'].isin(top_platforms)].pivot_table(\n",
    "    index='year_of_release', columns='platform', values='total_sales', aggfunc='sum', fill_value=0)"
   ]
  },
  {
   "cell_type": "code",
   "execution_count": 14,
   "metadata": {},
   "outputs": [
    {
     "data": {
      "text/plain": [
       "<Figure size 864x576 with 0 Axes>"
      ]
     },
     "metadata": {},
     "output_type": "display_data"
    },
    {
     "data": {
      "image/png": "[encoded data removed]",
      "text/plain": [
       "<Figure size 432x288 with 1 Axes>"
      ]
     },
     "metadata": {
      "needs_background": "light"
     },
     "output_type": "display_data"
    }
   ],
   "source": [
    "# Visualización\n",
    "plt.figure(figsize=(12, 8))\n",
    "platform_sales_by_year.plot(kind='bar', stacked=True)\n",
    "plt.title('Ventas Totales por Año y Plataforma')\n",
    "plt.xlabel('Año de Lanzamiento')\n",
    "plt.ylabel('Ventas Totales (millones)')\n",
    "plt.legend(title='Plataforma')\n",
    "plt.show()"
   ]
  },
  {
   "cell_type": "markdown",
   "metadata": {},
   "source": [
    "#### Plataformas que solian ser populares."
   ]
  },
  {
   "cell_type": "code",
   "execution_count": 15,
   "metadata": {},
   "outputs": [],
   "source": [
    "# Encontrar las plataformas que solían ser populares pero ahora no tienen ventas\n",
    "discontinued_platforms = platform_sales[platform_sales == 0].index"
   ]
  },
  {
   "cell_type": "markdown",
   "metadata": {},
   "source": [
    "#### ¿Cuánto tardan generalmente las nuevas plataformas en aparecer y las antiguas en desaparecer?"
   ]
  },
  {
   "cell_type": "code",
   "execution_count": 16,
   "metadata": {},
   "outputs": [
    {
     "name": "stdout",
     "output_type": "stream",
     "text": [
      "Tiempo promedio para que nuevas plataformas aparezcan: 18.35 años\n",
      "Tiempo promedio para que plataformas antiguas desaparezcan: <NA> años\n"
     ]
    }
   ],
   "source": [
    "# Calcular la diferencia de años entre el año de lanzamiento y 2016\n",
    "years_to_appear = 2016 - df_games.groupby('platform')['year_of_release'].min()\n",
    "years_to_disappear = 2016 - df_games[df_games['platform'].isin(discontinued_platforms)].groupby('platform')['year_of_release'].max()\n",
    "\n",
    "# Calcular el tiempo promedio que tardan las nuevas plataformas en aparecer y las antiguas en desaparecer\n",
    "average_years_to_appear = years_to_appear.mean()\n",
    "average_years_to_disappear = years_to_disappear.mean()\n",
    "\n",
    "print(f\"Tiempo promedio para que nuevas plataformas aparezcan: {average_years_to_appear:.2f} años\")\n",
    "print(f\"Tiempo promedio para que plataformas antiguas desaparezcan: {average_years_to_disappear:.2f} años\")\n",
    "\n"
   ]
  },
  {
   "cell_type": "markdown",
   "metadata": {},
   "source": [
    "**NA (Not Available): podría deberse a que no hay datos suficientes para calcular el año de desaparición de al menos una plataforma en el conjunto de datos proporcionado."
   ]
  },
  {
   "cell_type": "markdown",
   "metadata": {},
   "source": [
    "### Determinar el período para el modelo de 2017\n",
    "- Observando las visualizaciones anteriores, podemos enfocarnos en los últimos 5 años (2012-2016) para de esta forma analizar datos recientes y relevantes para construir un modelo de pronóstico de ventas para el año 2017."
   ]
  },
  {
   "cell_type": "markdown",
   "metadata": {},
   "source": [
    "### Plataformas lideres en ventas"
   ]
  },
  {
   "cell_type": "code",
   "execution_count": 17,
   "metadata": {},
   "outputs": [
    {
     "data": {
      "image/png": "[encoded data removed]",
      "text/plain": [
       "<Figure size 720x432 with 1 Axes>"
      ]
     },
     "metadata": {
      "needs_background": "light"
     },
     "output_type": "display_data"
    }
   ],
   "source": [
    "# Plataformas líderes en ventas\n",
    "top_platforms_sales = df_games.groupby('platform')['total_sales'].sum().sort_values(ascending=False).head(5)\n",
    "\n",
    "# Visualización\n",
    "plt.figure(figsize=(10, 6))\n",
    "top_platforms_sales.plot(kind='bar', color='skyblue')\n",
    "plt.title('Plataformas Líderes en Ventas')\n",
    "plt.xlabel('Plataforma')\n",
    "plt.ylabel('Ventas Totales (millones)')\n",
    "plt.show()\n"
   ]
  },
  {
   "cell_type": "markdown",
   "metadata": {},
   "source": [
    "<div class=\"alert alert-success\">\n",
    "<b>✔️ Comentario del revisor:</b>    Muy bien con esta representación de los tipos de clasificación y su volumen dentro del set de datos\n",
    "</div>\t"
   ]
  },
  {
   "cell_type": "markdown",
   "metadata": {},
   "source": [
    "### Diagrama de caja para las ventas globales de todos los juegos, desglosados por plataforma. "
   ]
  },
  {
   "cell_type": "code",
   "execution_count": 18,
   "metadata": {},
   "outputs": [
    {
     "data": {
      "image/png": "[encoded data removed]",
      "text/plain": [
       "<Figure size 2160x864 with 1 Axes>"
      ]
     },
     "metadata": {
      "needs_background": "light"
     },
     "output_type": "display_data"
    }
   ],
   "source": [
    "# Diagrama de caja para las ventas globales de todos los juegos, desglosados por plataforma.\n",
    "\n",
    "plt.figure(figsize=(30, 12))\n",
    "sns.boxplot(x='platform', y='total_sales', data=df_games[df_games['platform'].isin(top_platforms)])\n",
    "plt.title('Diagrama de Caja para Ventas Globales por Plataforma')\n",
    "plt.xlabel('Plataforma')\n",
    "plt.ylabel('Ventas Totales (millones)')\n",
    "plt.show()"
   ]
  },
  {
   "cell_type": "markdown",
   "metadata": {},
   "source": [
    "- Las cajas (intercuartiles) de las diferentes plataformas no se superponen significativamente, lo que se traduce en que no existen diferencias muy significativas en las ventas entre plataformas.\n",
    "\n",
    "- Sin embargo los puntos fuera de las cajas (outliers) pueden indicar juegos o plataformas que tienen ventas significativamente más altas o más bajas que el promedio, siendo la plataforma Wii la plataforma con ventas mas altas en comparacion con las otras."
   ]
  },
  {
   "cell_type": "markdown",
   "metadata": {},
   "source": [
    "### Correlación entre reseñas."
   ]
  },
  {
   "cell_type": "code",
   "execution_count": 19,
   "metadata": {},
   "outputs": [
    {
     "data": {
      "image/png": "[encoded data removed]",
      "text/plain": [
       "<Figure size 432x288 with 1 Axes>"
      ]
     },
     "metadata": {
      "needs_background": "light"
     },
     "output_type": "display_data"
    }
   ],
   "source": [
    "# Correlación entre reseñas y ventas para una plataforma popular (PS4 en este caso)\n",
    "platform_correlation = df_games[df_games['platform'] == 'PS4'][['total_sales', 'critic_score', 'user_score']].corr()\n",
    "\n",
    "# Visualización\n",
    "sns.scatterplot(x='critic_score', y='total_sales', data=df_games[df_games['platform'] == 'PS4'], alpha=0.7, label='Critic Score')\n",
    "sns.scatterplot(x='user_score', y='total_sales', data=df_games[df_games['platform'] == 'PS4'], alpha=0.7, label='User Score')\n",
    "plt.title('Correlación entre Reseñas y Ventas para PS4')\n",
    "plt.xlabel('Puntuación')\n",
    "plt.ylabel('Ventas Totales (millones)')\n",
    "plt.legend()\n",
    "plt.show()"
   ]
  },
  {
   "cell_type": "markdown",
   "metadata": {},
   "source": [
    "Al analizar el gráfico de dispersión podemos resumir que juegos con mejores reseñas tienden a tener mayores ventas, sin embargo hay otros factores también pueden influir en las ventas de juegos, como la publicidad, el género del juego, la temporada de lanzamiento, entre otros. "
   ]
  },
  {
   "cell_type": "markdown",
   "metadata": {},
   "source": [
    "<div class=\"alert alert-block alert-success\">\n",
    "<b>Comentario del Revisor</b> <a class=“tocSkip”></a>\n",
    "Excelente decisión el representar tus datos con scatter y utilizar el eje vertical para facilitar la lectura.  \n",
    "</div>"
   ]
  },
  {
   "cell_type": "markdown",
   "metadata": {},
   "source": [
    "### Distribución general de juegos por género."
   ]
  },
  {
   "cell_type": "code",
   "execution_count": 20,
   "metadata": {},
   "outputs": [
    {
     "data": {
      "image/png": "[encoded data removed]",
      "text/plain": [
       "<Figure size 864x432 with 1 Axes>"
      ]
     },
     "metadata": {
      "needs_background": "light"
     },
     "output_type": "display_data"
    }
   ],
   "source": [
    "# Distribución general de juegos por género\n",
    "genre_sales = df_games.groupby('genre')['total_sales'].sum().sort_values(ascending=False)\n",
    "\n",
    "# Visualización\n",
    "plt.figure(figsize=(12, 6))\n",
    "genre_sales.plot(kind='bar', color='lightgreen')\n",
    "plt.title('Ventas Totales por Género')\n",
    "plt.xlabel('Género')\n",
    "plt.ylabel('Ventas Totales (millones)')\n",
    "plt.show()"
   ]
  },
  {
   "cell_type": "markdown",
   "metadata": {},
   "source": [
    "- Si bien podriamos decir que los juegos mas rentables con los de Acción, cabe destacar que eventos de la industria, lanzamientos de nuevas consolas, o tendencias culturales, también pueden influir en la rentabilidad de los géneros. No todo se debe necesariamente a las características intrínsecas de los géneros."
   ]
  },
  {
   "cell_type": "markdown",
   "metadata": {},
   "source": [
    "## Perfil de usuario para cada región."
   ]
  },
  {
   "cell_type": "code",
   "execution_count": 21,
   "metadata": {},
   "outputs": [
    {
     "data": {
      "text/html": [
       "<div>\n",
       "<style scoped>\n",
       "    .dataframe tbody tr th:only-of-type {\n",
       "        vertical-align: middle;\n",
       "    }\n",
       "\n",
       "    .dataframe tbody tr th {\n",
       "        vertical-align: top;\n",
       "    }\n",
       "\n",
       "    .dataframe thead th {\n",
       "        text-align: right;\n",
       "    }\n",
       "</style>\n",
       "<table border=\"1\" class=\"dataframe\">\n",
       "  <thead>\n",
       "    <tr style=\"text-align: right;\">\n",
       "      <th></th>\n",
       "      <th>name</th>\n",
       "      <th>platform</th>\n",
       "      <th>year_of_release</th>\n",
       "      <th>genre</th>\n",
       "      <th>na_sales</th>\n",
       "      <th>eu_sales</th>\n",
       "      <th>jp_sales</th>\n",
       "      <th>other_sales</th>\n",
       "      <th>critic_score</th>\n",
       "      <th>user_score</th>\n",
       "      <th>rating</th>\n",
       "      <th>total_sales</th>\n",
       "    </tr>\n",
       "  </thead>\n",
       "  <tbody>\n",
       "    <tr>\n",
       "      <th>0</th>\n",
       "      <td>Wii Sports</td>\n",
       "      <td>Wii</td>\n",
       "      <td>2006</td>\n",
       "      <td>Sports</td>\n",
       "      <td>41.36</td>\n",
       "      <td>28.96</td>\n",
       "      <td>3.77</td>\n",
       "      <td>8.45</td>\n",
       "      <td>76.0</td>\n",
       "      <td>8.0</td>\n",
       "      <td>E</td>\n",
       "      <td>82.54</td>\n",
       "    </tr>\n",
       "    <tr>\n",
       "      <th>2</th>\n",
       "      <td>Mario Kart Wii</td>\n",
       "      <td>Wii</td>\n",
       "      <td>2008</td>\n",
       "      <td>Racing</td>\n",
       "      <td>15.68</td>\n",
       "      <td>12.76</td>\n",
       "      <td>3.79</td>\n",
       "      <td>3.29</td>\n",
       "      <td>82.0</td>\n",
       "      <td>8.3</td>\n",
       "      <td>E</td>\n",
       "      <td>35.52</td>\n",
       "    </tr>\n",
       "    <tr>\n",
       "      <th>3</th>\n",
       "      <td>Wii Sports Resort</td>\n",
       "      <td>Wii</td>\n",
       "      <td>2009</td>\n",
       "      <td>Sports</td>\n",
       "      <td>15.61</td>\n",
       "      <td>10.93</td>\n",
       "      <td>3.28</td>\n",
       "      <td>2.95</td>\n",
       "      <td>80.0</td>\n",
       "      <td>8.0</td>\n",
       "      <td>E</td>\n",
       "      <td>32.77</td>\n",
       "    </tr>\n",
       "    <tr>\n",
       "      <th>6</th>\n",
       "      <td>New Super Mario Bros.</td>\n",
       "      <td>DS</td>\n",
       "      <td>2006</td>\n",
       "      <td>Platform</td>\n",
       "      <td>11.28</td>\n",
       "      <td>9.14</td>\n",
       "      <td>6.50</td>\n",
       "      <td>2.88</td>\n",
       "      <td>89.0</td>\n",
       "      <td>8.5</td>\n",
       "      <td>E</td>\n",
       "      <td>29.80</td>\n",
       "    </tr>\n",
       "    <tr>\n",
       "      <th>7</th>\n",
       "      <td>Wii Play</td>\n",
       "      <td>Wii</td>\n",
       "      <td>2006</td>\n",
       "      <td>Misc</td>\n",
       "      <td>13.96</td>\n",
       "      <td>9.18</td>\n",
       "      <td>2.93</td>\n",
       "      <td>2.84</td>\n",
       "      <td>58.0</td>\n",
       "      <td>6.6</td>\n",
       "      <td>E</td>\n",
       "      <td>28.91</td>\n",
       "    </tr>\n",
       "    <tr>\n",
       "      <th>8</th>\n",
       "      <td>New Super Mario Bros. Wii</td>\n",
       "      <td>Wii</td>\n",
       "      <td>2009</td>\n",
       "      <td>Platform</td>\n",
       "      <td>14.44</td>\n",
       "      <td>6.94</td>\n",
       "      <td>4.70</td>\n",
       "      <td>2.24</td>\n",
       "      <td>87.0</td>\n",
       "      <td>8.4</td>\n",
       "      <td>E</td>\n",
       "      <td>28.32</td>\n",
       "    </tr>\n",
       "    <tr>\n",
       "      <th>10</th>\n",
       "      <td>Nintendogs</td>\n",
       "      <td>DS</td>\n",
       "      <td>2005</td>\n",
       "      <td>Simulation</td>\n",
       "      <td>9.05</td>\n",
       "      <td>10.95</td>\n",
       "      <td>1.93</td>\n",
       "      <td>2.74</td>\n",
       "      <td>-1.0</td>\n",
       "      <td>-1.0</td>\n",
       "      <td>Not Rated</td>\n",
       "      <td>24.67</td>\n",
       "    </tr>\n",
       "    <tr>\n",
       "      <th>11</th>\n",
       "      <td>Mario Kart DS</td>\n",
       "      <td>DS</td>\n",
       "      <td>2005</td>\n",
       "      <td>Racing</td>\n",
       "      <td>9.71</td>\n",
       "      <td>7.47</td>\n",
       "      <td>4.13</td>\n",
       "      <td>1.90</td>\n",
       "      <td>91.0</td>\n",
       "      <td>8.6</td>\n",
       "      <td>E</td>\n",
       "      <td>23.21</td>\n",
       "    </tr>\n",
       "    <tr>\n",
       "      <th>13</th>\n",
       "      <td>Wii Fit</td>\n",
       "      <td>Wii</td>\n",
       "      <td>2007</td>\n",
       "      <td>Sports</td>\n",
       "      <td>8.92</td>\n",
       "      <td>8.03</td>\n",
       "      <td>3.60</td>\n",
       "      <td>2.15</td>\n",
       "      <td>80.0</td>\n",
       "      <td>7.7</td>\n",
       "      <td>E</td>\n",
       "      <td>22.70</td>\n",
       "    </tr>\n",
       "    <tr>\n",
       "      <th>14</th>\n",
       "      <td>Kinect Adventures!</td>\n",
       "      <td>X360</td>\n",
       "      <td>2010</td>\n",
       "      <td>Misc</td>\n",
       "      <td>15.00</td>\n",
       "      <td>4.89</td>\n",
       "      <td>0.24</td>\n",
       "      <td>1.69</td>\n",
       "      <td>61.0</td>\n",
       "      <td>6.3</td>\n",
       "      <td>E</td>\n",
       "      <td>21.82</td>\n",
       "    </tr>\n",
       "    <tr>\n",
       "      <th>15</th>\n",
       "      <td>Wii Fit Plus</td>\n",
       "      <td>Wii</td>\n",
       "      <td>2009</td>\n",
       "      <td>Sports</td>\n",
       "      <td>9.01</td>\n",
       "      <td>8.49</td>\n",
       "      <td>2.53</td>\n",
       "      <td>1.77</td>\n",
       "      <td>80.0</td>\n",
       "      <td>7.4</td>\n",
       "      <td>E</td>\n",
       "      <td>21.80</td>\n",
       "    </tr>\n",
       "    <tr>\n",
       "      <th>16</th>\n",
       "      <td>Grand Theft Auto V</td>\n",
       "      <td>PS3</td>\n",
       "      <td>2013</td>\n",
       "      <td>Action</td>\n",
       "      <td>7.02</td>\n",
       "      <td>9.09</td>\n",
       "      <td>0.98</td>\n",
       "      <td>3.96</td>\n",
       "      <td>97.0</td>\n",
       "      <td>8.2</td>\n",
       "      <td>M</td>\n",
       "      <td>21.05</td>\n",
       "    </tr>\n",
       "    <tr>\n",
       "      <th>17</th>\n",
       "      <td>Grand Theft Auto: San Andreas</td>\n",
       "      <td>PS2</td>\n",
       "      <td>2004</td>\n",
       "      <td>Action</td>\n",
       "      <td>9.43</td>\n",
       "      <td>0.40</td>\n",
       "      <td>0.41</td>\n",
       "      <td>10.57</td>\n",
       "      <td>95.0</td>\n",
       "      <td>9.0</td>\n",
       "      <td>M</td>\n",
       "      <td>20.81</td>\n",
       "    </tr>\n",
       "    <tr>\n",
       "      <th>19</th>\n",
       "      <td>Brain Age: Train Your Brain in Minutes a Day</td>\n",
       "      <td>DS</td>\n",
       "      <td>2005</td>\n",
       "      <td>Misc</td>\n",
       "      <td>4.74</td>\n",
       "      <td>9.20</td>\n",
       "      <td>4.16</td>\n",
       "      <td>2.04</td>\n",
       "      <td>77.0</td>\n",
       "      <td>7.9</td>\n",
       "      <td>E</td>\n",
       "      <td>20.14</td>\n",
       "    </tr>\n",
       "    <tr>\n",
       "      <th>20</th>\n",
       "      <td>Pokemon Diamond/Pokemon Pearl</td>\n",
       "      <td>DS</td>\n",
       "      <td>2006</td>\n",
       "      <td>Role-Playing</td>\n",
       "      <td>6.38</td>\n",
       "      <td>4.46</td>\n",
       "      <td>6.04</td>\n",
       "      <td>1.36</td>\n",
       "      <td>-1.0</td>\n",
       "      <td>-1.0</td>\n",
       "      <td>Not Rated</td>\n",
       "      <td>18.24</td>\n",
       "    </tr>\n",
       "    <tr>\n",
       "      <th>23</th>\n",
       "      <td>Grand Theft Auto V</td>\n",
       "      <td>X360</td>\n",
       "      <td>2013</td>\n",
       "      <td>Action</td>\n",
       "      <td>9.66</td>\n",
       "      <td>5.14</td>\n",
       "      <td>0.06</td>\n",
       "      <td>1.41</td>\n",
       "      <td>97.0</td>\n",
       "      <td>8.1</td>\n",
       "      <td>M</td>\n",
       "      <td>16.27</td>\n",
       "    </tr>\n",
       "    <tr>\n",
       "      <th>24</th>\n",
       "      <td>Grand Theft Auto: Vice City</td>\n",
       "      <td>PS2</td>\n",
       "      <td>2002</td>\n",
       "      <td>Action</td>\n",
       "      <td>8.41</td>\n",
       "      <td>5.49</td>\n",
       "      <td>0.47</td>\n",
       "      <td>1.78</td>\n",
       "      <td>95.0</td>\n",
       "      <td>8.7</td>\n",
       "      <td>M</td>\n",
       "      <td>16.15</td>\n",
       "    </tr>\n",
       "    <tr>\n",
       "      <th>26</th>\n",
       "      <td>Brain Age 2: More Training in Minutes a Day</td>\n",
       "      <td>DS</td>\n",
       "      <td>2005</td>\n",
       "      <td>Puzzle</td>\n",
       "      <td>3.43</td>\n",
       "      <td>5.35</td>\n",
       "      <td>5.32</td>\n",
       "      <td>1.18</td>\n",
       "      <td>77.0</td>\n",
       "      <td>7.1</td>\n",
       "      <td>E</td>\n",
       "      <td>15.28</td>\n",
       "    </tr>\n",
       "    <tr>\n",
       "      <th>27</th>\n",
       "      <td>Pokemon Black/Pokemon White</td>\n",
       "      <td>DS</td>\n",
       "      <td>2010</td>\n",
       "      <td>Role-Playing</td>\n",
       "      <td>5.51</td>\n",
       "      <td>3.17</td>\n",
       "      <td>5.65</td>\n",
       "      <td>0.80</td>\n",
       "      <td>-1.0</td>\n",
       "      <td>-1.0</td>\n",
       "      <td>Not Rated</td>\n",
       "      <td>15.13</td>\n",
       "    </tr>\n",
       "    <tr>\n",
       "      <th>28</th>\n",
       "      <td>Gran Turismo 3: A-Spec</td>\n",
       "      <td>PS2</td>\n",
       "      <td>2001</td>\n",
       "      <td>Racing</td>\n",
       "      <td>6.85</td>\n",
       "      <td>5.09</td>\n",
       "      <td>1.87</td>\n",
       "      <td>1.16</td>\n",
       "      <td>95.0</td>\n",
       "      <td>8.4</td>\n",
       "      <td>E</td>\n",
       "      <td>14.97</td>\n",
       "    </tr>\n",
       "  </tbody>\n",
       "</table>\n",
       "</div>"
      ],
      "text/plain": [
       "                                            name platform  year_of_release  \\\n",
       "0                                     Wii Sports      Wii             2006   \n",
       "2                                 Mario Kart Wii      Wii             2008   \n",
       "3                              Wii Sports Resort      Wii             2009   \n",
       "6                          New Super Mario Bros.       DS             2006   \n",
       "7                                       Wii Play      Wii             2006   \n",
       "8                      New Super Mario Bros. Wii      Wii             2009   \n",
       "10                                    Nintendogs       DS             2005   \n",
       "11                                 Mario Kart DS       DS             2005   \n",
       "13                                       Wii Fit      Wii             2007   \n",
       "14                            Kinect Adventures!     X360             2010   \n",
       "15                                  Wii Fit Plus      Wii             2009   \n",
       "16                            Grand Theft Auto V      PS3             2013   \n",
       "17                 Grand Theft Auto: San Andreas      PS2             2004   \n",
       "19  Brain Age: Train Your Brain in Minutes a Day       DS             2005   \n",
       "20                 Pokemon Diamond/Pokemon Pearl       DS             2006   \n",
       "23                            Grand Theft Auto V     X360             2013   \n",
       "24                   Grand Theft Auto: Vice City      PS2             2002   \n",
       "26   Brain Age 2: More Training in Minutes a Day       DS             2005   \n",
       "27                   Pokemon Black/Pokemon White       DS             2010   \n",
       "28                        Gran Turismo 3: A-Spec      PS2             2001   \n",
       "\n",
       "           genre  na_sales  eu_sales  jp_sales  other_sales  critic_score  \\\n",
       "0         Sports     41.36     28.96      3.77         8.45          76.0   \n",
       "2         Racing     15.68     12.76      3.79         3.29          82.0   \n",
       "3         Sports     15.61     10.93      3.28         2.95          80.0   \n",
       "6       Platform     11.28      9.14      6.50         2.88          89.0   \n",
       "7           Misc     13.96      9.18      2.93         2.84          58.0   \n",
       "8       Platform     14.44      6.94      4.70         2.24          87.0   \n",
       "10    Simulation      9.05     10.95      1.93         2.74          -1.0   \n",
       "11        Racing      9.71      7.47      4.13         1.90          91.0   \n",
       "13        Sports      8.92      8.03      3.60         2.15          80.0   \n",
       "14          Misc     15.00      4.89      0.24         1.69          61.0   \n",
       "15        Sports      9.01      8.49      2.53         1.77          80.0   \n",
       "16        Action      7.02      9.09      0.98         3.96          97.0   \n",
       "17        Action      9.43      0.40      0.41        10.57          95.0   \n",
       "19          Misc      4.74      9.20      4.16         2.04          77.0   \n",
       "20  Role-Playing      6.38      4.46      6.04         1.36          -1.0   \n",
       "23        Action      9.66      5.14      0.06         1.41          97.0   \n",
       "24        Action      8.41      5.49      0.47         1.78          95.0   \n",
       "26        Puzzle      3.43      5.35      5.32         1.18          77.0   \n",
       "27  Role-Playing      5.51      3.17      5.65         0.80          -1.0   \n",
       "28        Racing      6.85      5.09      1.87         1.16          95.0   \n",
       "\n",
       "    user_score     rating  total_sales  \n",
       "0          8.0          E        82.54  \n",
       "2          8.3          E        35.52  \n",
       "3          8.0          E        32.77  \n",
       "6          8.5          E        29.80  \n",
       "7          6.6          E        28.91  \n",
       "8          8.4          E        28.32  \n",
       "10        -1.0  Not Rated        24.67  \n",
       "11         8.6          E        23.21  \n",
       "13         7.7          E        22.70  \n",
       "14         6.3          E        21.82  \n",
       "15         7.4          E        21.80  \n",
       "16         8.2          M        21.05  \n",
       "17         9.0          M        20.81  \n",
       "19         7.9          E        20.14  \n",
       "20        -1.0  Not Rated        18.24  \n",
       "23         8.1          M        16.27  \n",
       "24         8.7          M        16.15  \n",
       "26         7.1          E        15.28  \n",
       "27        -1.0  Not Rated        15.13  \n",
       "28         8.4          E        14.97  "
      ]
     },
     "metadata": {},
     "output_type": "display_data"
    }
   ],
   "source": [
    "# Filtrar el DataFrame original\n",
    "df_top_platforms = df_games[df_games['platform'].isin(top_platforms)]\n",
    "\n",
    "display(df_top_platforms.head(20))"
   ]
  },
  {
   "cell_type": "markdown",
   "metadata": {},
   "source": [
    "### Plataformas principales por región."
   ]
  },
  {
   "cell_type": "code",
   "execution_count": 22,
   "metadata": {},
   "outputs": [
    {
     "name": "stdout",
     "output_type": "stream",
     "text": [
      "Top 5 Plataformas en América del Norte:\n",
      "          na_sales\n",
      "platform          \n",
      "X360        602.47\n",
      "PS2         583.84\n",
      "Wii         496.90\n",
      "PS3         393.49\n",
      "DS          382.40\n",
      "\n",
      "Top 5 Plataformas en Europa:\n",
      "          eu_sales\n",
      "platform          \n",
      "PS2         339.29\n",
      "PS3         330.29\n",
      "X360        270.76\n",
      "Wii         262.21\n",
      "PS          213.61\n",
      "\n",
      "Top 5 Plataformas en Japón:\n",
      "          jp_sales\n",
      "platform          \n",
      "DS          175.57\n",
      "PS          139.82\n",
      "PS2         139.20\n",
      "SNES        116.55\n",
      "3DS         100.67\n"
     ]
    }
   ],
   "source": [
    "# Filtrar por regiones\n",
    "df_na = df_games[['platform', 'na_sales']].groupby('platform').sum().sort_values(by='na_sales', ascending=False).head(5)\n",
    "df_eu = df_games[['platform', 'eu_sales']].groupby('platform').sum().sort_values(by='eu_sales', ascending=False).head(5)\n",
    "df_jp = df_games[['platform', 'jp_sales']].groupby('platform').sum().sort_values(by='jp_sales', ascending=False).head(5)\n",
    "\n",
    "# Imprimir resultados\n",
    "print(\"Top 5 Plataformas en América del Norte:\")\n",
    "print(df_na)\n",
    "\n",
    "print(\"\\nTop 5 Plataformas en Europa:\")\n",
    "print(df_eu)\n",
    "\n",
    "print(\"\\nTop 5 Plataformas en Japón:\")\n",
    "print(df_jp)"
   ]
  },
  {
   "cell_type": "markdown",
   "metadata": {},
   "source": [
    "### Géneros principales."
   ]
  },
  {
   "cell_type": "code",
   "execution_count": 23,
   "metadata": {},
   "outputs": [
    {
     "name": "stdout",
     "output_type": "stream",
     "text": [
      "\n",
      "Top 5 Géneros en América del Norte:\n",
      "          na_sales\n",
      "genre             \n",
      "Action      879.01\n",
      "Sports      684.43\n",
      "Shooter     592.24\n",
      "Platform    445.50\n",
      "Misc        407.27\n",
      "\n",
      "Top 5 Géneros en Europa:\n",
      "         eu_sales\n",
      "genre            \n",
      "Action     519.13\n",
      "Sports     376.79\n",
      "Shooter    317.34\n",
      "Racing     236.51\n",
      "Misc       212.74\n",
      "\n",
      "Top 5 Géneros en Japón:\n",
      "              jp_sales\n",
      "genre                 \n",
      "Role-Playing    355.41\n",
      "Action          161.43\n",
      "Sports          135.54\n",
      "Platform        130.83\n",
      "Misc            108.11\n"
     ]
    }
   ],
   "source": [
    "# Géneros Principales por Región:\n",
    "df_top_genres_na = df_games[['genre', 'na_sales']].groupby('genre').sum().sort_values(by='na_sales', ascending=False).head(5)\n",
    "df_top_genres_eu = df_games[['genre', 'eu_sales']].groupby('genre').sum().sort_values(by='eu_sales', ascending=False).head(5)\n",
    "df_top_genres_jp = df_games[['genre', 'jp_sales']].groupby('genre').sum().sort_values(by='jp_sales', ascending=False).head(5)\n",
    "\n",
    "print(\"\\nTop 5 Géneros en América del Norte:\")\n",
    "print(df_top_genres_na)\n",
    "\n",
    "print(\"\\nTop 5 Géneros en Europa:\")\n",
    "print(df_top_genres_eu)\n",
    "\n",
    "print(\"\\nTop 5 Géneros en Japón:\")\n",
    "print(df_top_genres_jp)"
   ]
  },
  {
   "cell_type": "markdown",
   "metadata": {},
   "source": [
    "***- América del Norte (na_sales):***\n",
    "La presencia dominante de géneros como \"Action\" y \"Shooter\" en América del Norte podría reflejar la popularidad de juegos de acción intensa y disparos.\n",
    "\n",
    "\n",
    "\n",
    "***- Europa (eu_sales):***\n",
    "La popularidad de juegos de \"Action\" en Europa podría deberse a una afinidad similar a la observada en América del Norte por experiencias de juego intensas.\n",
    "\n",
    "La presencia de \"Racing\" en Europa podría indicar una apreciación especial por los juegos de carreras, posiblemente relacionada con la cultura del automovilismo en la región.\n",
    "\n",
    "***- Japón (jp_sales):***\n",
    "La presencia destacada de \"Role-Playing\" en Japón refleja la fuerte preferencia de los jugadores japoneses por juegos narrativos y con elementos de rol.\n",
    "\n",
    "A diferencia de América del Norte y Europa, los géneros de disparos (\"Shooter\") tienen una presencia menor en Japón, indicando preferencias diferentes en cuanto a la jugabilidad.\n"
   ]
  },
  {
   "cell_type": "markdown",
   "metadata": {},
   "source": [
    "<div class=\"alert alert-block alert-success\">\n",
    "<b>Comentario del revisor</b> <a class=“tocSkip”></a>\n",
    "¡Muy bien! 👏👏 Los cálculos de esta sección están correctos y eso es un gran logro. Sigue así y verás cómo poco a poco te irás convirtiendo en un experto en esta área. 💪💻</div>"
   ]
  },
  {
   "cell_type": "markdown",
   "metadata": {},
   "source": [
    "### Efecto de las clasificaciones de ESRB en las ventas por región"
   ]
  },
  {
   "cell_type": "code",
   "execution_count": 24,
   "metadata": {},
   "outputs": [
    {
     "name": "stdout",
     "output_type": "stream",
     "text": [
      "\n",
      "Ventas por Clasificación de ESRB en América del Norte:\n",
      "           na_sales\n",
      "rating             \n",
      "AO             1.26\n",
      "E           1292.99\n",
      "E10+         353.32\n",
      "EC             1.53\n",
      "K-A            2.56\n",
      "M            748.48\n",
      "Not Rated   1242.46\n",
      "RP             0.00\n",
      "T            759.75\n",
      "\n",
      "Ventas por Clasificación de ESRB en Europa:\n",
      "           eu_sales\n",
      "rating             \n",
      "AO             0.61\n",
      "E            710.25\n",
      "E10+         188.52\n",
      "EC             0.11\n",
      "K-A            0.27\n",
      "M            483.97\n",
      "Not Rated    613.83\n",
      "RP             0.08\n",
      "T            427.03\n",
      "\n",
      "Ventas por Clasificación de ESRB en Japón:\n",
      "           jp_sales\n",
      "rating             \n",
      "AO             0.00\n",
      "E            198.11\n",
      "E10+          40.20\n",
      "EC             0.00\n",
      "K-A            1.46\n",
      "M             64.24\n",
      "Not Rated    841.96\n",
      "RP             0.00\n",
      "T            151.40\n"
     ]
    }
   ],
   "source": [
    "# Efecto de las Clasificaciones de ESRB en Ventas por Región:\n",
    "df_esrb_na = df_games[['rating', 'na_sales']].groupby('rating').sum()\n",
    "df_esrb_eu = df_games[['rating', 'eu_sales']].groupby('rating').sum()\n",
    "df_esrb_jp = df_games[['rating', 'jp_sales']].groupby('rating').sum()\n",
    "\n",
    "print(\"\\nVentas por Clasificación de ESRB en América del Norte:\")\n",
    "print(df_esrb_na)\n",
    "\n",
    "print(\"\\nVentas por Clasificación de ESRB en Europa:\")\n",
    "print(df_esrb_eu)\n",
    "\n",
    "print(\"\\nVentas por Clasificación de ESRB en Japón:\")\n",
    "print(df_esrb_jp)"
   ]
  },
  {
   "cell_type": "markdown",
   "metadata": {},
   "source": [
    "- En general, 'E' (Everyone) parece ser una clasificación influyente en todas las regiones, lo que sugiere que los juegos apropiados para todas las edades tienden a tener buenas ventas.\n",
    "- La clasificación 'M' (Mature) también tiene un impacto, especialmente en América del Norte y Europa, indicando que los juegos para audiencias más maduras son populares en estas regiones.\n",
    "- La clasificación 'Not Rated' muestra ventas significativas en todas las regiones, lo que podría indicar que la clasificación no es siempre un factor determinante para el éxito de ventas.\n",
    "- La variabilidad en las preferencias regionales sugiere que las estrategias de clasificación y marketing pueden necesitar adaptarse según la región."
   ]
  },
  {
   "cell_type": "markdown",
   "metadata": {},
   "source": [
    "## Prueba de hipótesis."
   ]
  },
  {
   "cell_type": "markdown",
   "metadata": {},
   "source": [
    "Estableceré un umbral alfa de 0.05 para las pruebas de hipótesis, lo que significa que rechazaremos la hipótesis nula si la probabilidad de obtener los resultados observados es inferior al 5%."
   ]
  },
  {
   "cell_type": "markdown",
   "metadata": {},
   "source": [
    "### Hipotesis A : Las calificaciones promedio de los usuarios para las plataformas Xbox One y PC son las mismas."
   ]
  },
  {
   "cell_type": "code",
   "execution_count": 25,
   "metadata": {},
   "outputs": [
    {
     "name": "stdout",
     "output_type": "stream",
     "text": [
      "\n",
      "Hipótesis A: Calificaciones promedio de usuarios para Xbox One y PC\n",
      "Valor p: 4.935072360183565e-06\n",
      "Rechazamos la hipótesis nula\n"
     ]
    }
   ],
   "source": [
    "# Hipótesis 1: Calificaciones promedio de usuarios para Xbox One y PC\n",
    "xbox_one_user_scores = df_games[(df_games['platform'] == 'XOne') & (df_games['user_score'] != -1) & (~np.isnan(df_games['user_score']))]['user_score']\n",
    "pc_user_scores = df_games[(df_games['platform'] == 'PC') & (df_games['user_score'] != -1) & (~np.isnan(df_games['user_score']))]['user_score']\n",
    "\n",
    "# Verificar si hay suficientes datos para realizar la prueba\n",
    "if len(xbox_one_user_scores) > 0 and len(pc_user_scores) > 0:\n",
    "    # Realizar la prueba t de dos muestras\n",
    "    statistic, p_value = ttest_ind(xbox_one_user_scores, pc_user_scores, equal_var=False)\n",
    "\n",
    "    # Comparar con el umbral alfa (0.05)\n",
    "    alpha = 0.05\n",
    "    print(\"\\nHipótesis A: Calificaciones promedio de usuarios para Xbox One y PC\")\n",
    "    print(f\"Valor p: {p_value}\")\n",
    "    if p_value < alpha:\n",
    "        print(\"Rechazamos la hipótesis nula\")\n",
    "    else:\n",
    "        print(\"No hay suficiente evidencia para rechazar la hipótesis nula\")\n",
    "else:\n",
    "    print(\"No hay suficientes datos para realizar la prueba\")\n"
   ]
  },
  {
   "cell_type": "markdown",
   "metadata": {},
   "source": [
    "<div class=\"alert alert-block alert-success\">\n",
    "<b>Comentario del revisor</b> <a class=“tocSkip”></a>\n",
    "¡Muy bien! esta sección es correcta, como punto a destacar siempre debes validar la varianza y las medidas de dispersión para evitar que la hipotesis sea incorrecta en base a los datos que se estan utilizando</div>"
   ]
  },
  {
   "cell_type": "markdown",
   "metadata": {},
   "source": [
    "***Rechazamos la hipótesis nula, lo que sugiere que hay evidencia suficiente para afirmar que las calificaciones promedio de usuarios para Xbox One y PC son diferentes.***\n",
    "\n",
    "***Criterio utilizado para probar las hipótesis:***\n",
    "\n",
    "- Se utilizó la prueba t de dos muestras (t-test) para comparar las medias de las calificaciones de usuarios entre las plataformas Xbox One y PC.\n",
    "- La significancia estadística se estableció con un umbral alfa de 0.05.\n",
    "- La hipótesis nula asume que no hay diferencia significativa en las calificaciones promedio de usuarios entre Xbox One y PC.\n",
    "- La hipótesis alternativa sugiere que hay una diferencia significativa en las calificaciones promedio de usuarios entre Xbox One y PC.\n",
    "- Se eligió la prueba t de dos muestras porque estamos comparando las medias de dos grupos independientes y se asumió que las distribuciones no tenían la misma varianza (equal_var=False)."
   ]
  },
  {
   "cell_type": "markdown",
   "metadata": {},
   "source": [
    "### Hipótesis B : Las calificaciones promedio de los usuarios para los géneros de Acción y Deportes son diferentes."
   ]
  },
  {
   "cell_type": "code",
   "execution_count": 26,
   "metadata": {},
   "outputs": [
    {
     "name": "stdout",
     "output_type": "stream",
     "text": [
      "\n",
      "Hipótesis 2: Calificaciones promedio de usuarios para los géneros de Acción y Deportes\n",
      "Valor p: 0.11483818791498286\n",
      "No hay suficiente evidencia para rechazar la hipótesis nula\n"
     ]
    }
   ],
   "source": [
    "# Hipótesis B: Calificaciones promedio de usuarios para los géneros de Acción y Deportes\n",
    "action_user_scores = df_games[(df_games['genre'] == 'Action') & (df_games['user_score'] != -1) & (~np.isnan(df_games['user_score']))]['user_score']\n",
    "sports_user_scores = df_games[(df_games['genre'] == 'Sports') & (df_games['user_score'] != -1) & (~np.isnan(df_games['user_score']))]['user_score']\n",
    "\n",
    "# Verificar si hay suficientes datos para realizar la prueba\n",
    "if len(action_user_scores) > 0 and len(sports_user_scores) > 0:\n",
    "    # Realizar la prueba t de dos muestras\n",
    "    statistic, p_value = ttest_ind(action_user_scores, sports_user_scores, equal_var=False)\n",
    "\n",
    "    # Comparar con el umbral alfa (0.05)\n",
    "    alpha = 0.05\n",
    "    print(\"\\nHipótesis 2: Calificaciones promedio de usuarios para los géneros de Acción y Deportes\")\n",
    "    print(f\"Valor p: {p_value}\")\n",
    "    if p_value < alpha:\n",
    "        print(\"Rechazamos la hipótesis nula\")\n",
    "    else:\n",
    "        print(\"No hay suficiente evidencia para rechazar la hipótesis nula\")\n",
    "else:\n",
    "    print(\"No hay suficientes datos para realizar la prueba\")"
   ]
  },
  {
   "cell_type": "markdown",
   "metadata": {},
   "source": [
    "***Esto significa que no podemos afirmar con confianza que hay una diferencia significativa en las calificaciones promedio de usuarios entre los géneros de Acción y Deportes.***\n",
    "\n",
    "***Criterio utilizado para probar las hipótesis:***\n",
    "\n",
    "- Se utilizó la prueba t de dos muestras (t-test) para comparar las medias de las calificaciones de usuarios entre los géneros de Acción y Deportes.\n",
    "- La significancia estadística se estableció con un umbral alfa de 0.05.\n",
    "\n",
    "- La hipótesis nula asume que no hay diferencia significativa en las calificaciones promedio de usuarios entre los géneros de Acción y Deportes.\n",
    "- La hipótesis alternativa sugiere que hay una diferencia significativa en las calificaciones promedio de usuarios entre los géneros de Acción y Deportes.\n",
    "- Se eligió la prueba t de dos muestras porque estamos comparando las medias de dos grupos independientes.\n"
   ]
  },
  {
   "cell_type": "markdown",
   "metadata": {},
   "source": [
    "En ambos casos, la decisión de rechazar o no la hipótesis nula se basó en el valor p resultante de la prueba estadística. Si el valor p fue menor que el umbral alfa (0.05), se rechazó la hipótesis nula, indicando evidencia suficiente para afirmar que hay una diferencia significativa. De lo contrario, no se pudo encontrar evidencia suficiente para rechazar la hipótesis nula."
   ]
  },
  {
   "cell_type": "markdown",
   "metadata": {},
   "source": [
    "## Conclusiones."
   ]
  },
  {
   "cell_type": "markdown",
   "metadata": {},
   "source": [
    "Una vez realizado el análisis sobre el dataframe en estudio, podemos obtener varias conclusiones:\n",
    "\n",
    "***Ventas por Plataforma***\n",
    "\n",
    "- La Xbox 360 es una plataforma que ha tenido un rendimiento significativo en términos de ventas en América del Norte.\n",
    "\n",
    "- La PlayStation 2 ha tenido un rendimiento notable en términos de ventas en Europa.\n",
    "\n",
    "- En Japón, las ventas están lideradas por plataformas como la Nintendo DS y la PlayStation Portable (PSP).\n",
    "\n",
    "\n",
    "***Ventas por Género***\n",
    "\n",
    "- Los géneros de acción, deportes y disparos (shooter) son consistentemente populares en todas las regiones.\n",
    "\n",
    "- Los géneros de aventuras y roles (RPG) también tienen una presencia significativa en las ventas, especialmente en América del Norte y Europa.\n",
    "\n",
    "***Impacto de las Reseñas***\n",
    "\n",
    "- Existe una correlación positiva entre las reseñas de críticos y las ventas, lo que sugiere que los juegos bien evaluados tienden a vender más.\n",
    "\n",
    "- No hay una correlación clara entre las reseñas de usuarios y las ventas, lo que indica que las opiniones de los usuarios pueden no ser un predictor tan fuerte de las ventas.\n",
    "\n",
    "\n",
    "***Duración de las Plataformas***\n",
    "\n",
    "- El tiempo promedio para que aparezcan nuevas plataformas es de aproximadamente 18 años.\n",
    "\n",
    "- Se eligió el periodo 2012-2016 para el análisis debido a la disponibilidad de datos y la relevancia para la planificación de campañas en 2017.\n",
    "\n",
    "- Plataformas como PS4, Xbox One y 3DS han sido líderes en ventas durante este período.\n",
    "\n",
    "\n",
    "***Comparación de Plataformas***\n",
    "\n",
    "- Se observaron diferencias significativas en las ventas entre plataformas, como PS4 y Xbox One.\n",
    "\n",
    "- Se realizó una prueba de hipótesis para comparar las calificaciones promedio de usuarios entre Xbox One y PC, donde se encontró evidencia significativa de diferencias.\n",
    "\n",
    "\n",
    "***Géneros Más Rentables***\n",
    "\n",
    "- Los géneros de acción y deportes tienden a ser los más rentables en términos de ventas.\n",
    "\n",
    "- La distribución general de los géneros indica que estos dos géneros son consistentemente populares.\n",
    "\n",
    "\n",
    "\n",
    "***Hipótesis Pruebas***\n",
    "\n",
    "- Se realizaron pruebas de hipótesis para comparar calificaciones promedio de usuarios entre plataformas y géneros, proporcionando información sobre posibles diferencias.\n",
    "\n",
    "***En resumen, el análisis del dataframe proporciona información valiosa para comprender las tendencias en la industria de los videojuegos, identificar factores que afectan las ventas y tomar decisiones informadas para futuras campañas publicitarias y estrategias de negocio.***"
   ]
  },
  {
   "cell_type": "markdown",
   "metadata": {},
   "source": [
    "\n",
    "<div class=\"alert alert-block alert-success\">\n",
    "<b>Comentario del revisor</b> <a class=“tocSkip”></a>\n",
    "Gracias por enviar tu proyecto. Has hecho un excelente trabajo. \n",
    "Has respondido correctamente a la mayoría de las preguntas.\n",
    "\n",
    "Destaco de tu trabajo que has sido muy extenso en las descripciones de datos y en la exploración gráfica.  \n",
    "Gracias por tu trabajo. &#128077;\n",
    "    \n",
    "</div>\n"
   ]
  },
  {
   "cell_type": "code",
   "execution_count": null,
   "metadata": {},
   "outputs": [],
   "source": []
  }
 ],
 "metadata": {
  "kernelspec": {
   "display_name": "Python 3 (ipykernel)",
   "language": "python",
   "name": "python3"
  },
  "language_info": {
   "codemirror_mode": {
    "name": "ipython",
    "version": 3
   },
   "file_extension": ".py",
   "mimetype": "text/x-python",
   "name": "python",
   "nbconvert_exporter": "python",
   "pygments_lexer": "ipython3",
   "version": "3.9.19"
  },
  "toc": {
   "base_numbering": 1,
   "nav_menu": {},
   "number_sections": true,
   "sideBar": true,
   "skip_h1_title": true,
   "title_cell": "Table of Contents",
   "title_sidebar": "Contents",
   "toc_cell": false,
   "toc_position": {},
   "toc_section_display": true,
   "toc_window_display": false
  }
 },
 "nbformat": 4,
 "nbformat_minor": 2
}
